{
 "cells": [
  {
   "cell_type": "code",
   "execution_count": 1,
   "metadata": {},
   "outputs": [],
   "source": [
    "import pandas as pd\n",
    "import numpy as np\n",
    "import random as rn\n",
    "import matplotlib.pyplot as plt\n",
    "import random as rn\n",
    "from sklearn import preprocessing\n",
    "train=pd.read_csv(\"/home/chiku/lon/train.csv\")\n",
    "test=pd.read_csv(\"/home/chiku/lon/testp.csv\")\n",
    "tr=pd.DataFrame(preprocessing.normalize(train.iloc[:,0:5]))\n",
    "x_train=tr.iloc[:,0:4]\n",
    "y_train=tr.iloc[:,-1]\n",
    "one1=np.ones([x_train.shape[0],1])\n",
    "x_train.insert(loc=0,column='x0',value=one1)\n",
    "te=pd.DataFrame(preprocessing.normalize(test.iloc[:,0:5]))\n",
    "x_test=te.iloc[:,0:4]\n",
    "y_test=te.iloc[:,-1]\n",
    "one2=np.ones([x_test.shape[0],1])\n",
    "x_test.insert(loc=0,column='x0',value=one2)"
   ]
  },
  {
   "cell_type": "code",
   "execution_count": 2,
   "metadata": {},
   "outputs": [],
   "source": [
    "def hyp(theta,x):\n",
    "    p=x.dot(theta)\n",
    "    return p"
   ]
  },
  {
   "cell_type": "code",
   "execution_count": 3,
   "metadata": {},
   "outputs": [],
   "source": [
    "def cost(theta,x,y,lamb,alpha):\n",
    "    m=len(x)\n",
    "    k=lamb*(0.5*(1-alpha)*sum(np.square(theta))+alpha*sum(theta))\n",
    "    ct=((1/2*m)*(np.sum((x.dot(theta)-y)**2)))+k\n",
    "    return ct"
   ]
  },
  {
   "cell_type": "code",
   "execution_count": 4,
   "metadata": {},
   "outputs": [],
   "source": [
    "def elastic(x,y,alpha,iternum,lamb):\n",
    "    theta=np.zeros(x.shape[1])\n",
    "    m=x.shape[0]\n",
    "    cos=[]\n",
    "    tmp=theta\n",
    "    for i in range(iternum):\n",
    "        y_pre=hyp(theta,x)\n",
    "        grad=(np.dot(x.T,(y_pre-y))*(1/m))+lamb*((1-alpha)*sum(theta)+alpha)\n",
    "        tmp =theta-alpha*grad\n",
    "        theta=tmp\n",
    "        cos.append(cost(theta,x,y,lamb,alpha))\n",
    "    return theta,cos"
   ]
  },
  {
   "cell_type": "code",
   "execution_count": 25,
   "metadata": {},
   "outputs": [
    {
     "data": {
      "image/png": "[encoded data removed]",
      "text/plain": [
       "<Figure size 432x288 with 1 Axes>"
      ]
     },
     "metadata": {
      "needs_background": "light"
     },
     "output_type": "display_data"
    }
   ],
   "source": [
    "#elastic(x,y,alpha,iternum,lamb)\n",
    "A,B=elastic(x_train,y_train,0.005,1000,5)\n",
    "plt.plot(B)\n",
    "plt.show()"
   ]
  },
  {
   "cell_type": "code",
   "execution_count": 26,
   "metadata": {},
   "outputs": [
    {
     "data": {
      "text/plain": [
       "0.011644174837432552"
      ]
     },
     "execution_count": 26,
     "metadata": {},
     "output_type": "execute_result"
    }
   ],
   "source": [
    "from sklearn.metrics import mean_squared_error\n",
    "from math import sqrt\n",
    "rms = sqrt(mean_squared_error(y_test,hyp(A,x_test)))\n",
    "rms"
   ]
  }
 ],
 "metadata": {
  "kernelspec": {
   "display_name": "Python 3",
   "language": "python",
   "name": "python3"
  },
  "language_info": {
   "codemirror_mode": {
    "name": "ipython",
    "version": 3
   },
   "file_extension": ".py",
   "mimetype": "text/x-python",
   "name": "python",
   "nbconvert_exporter": "python",
   "pygments_lexer": "ipython3",
   "version": "3.7.1"
  }
 },
 "nbformat": 4,
 "nbformat_minor": 2
}
