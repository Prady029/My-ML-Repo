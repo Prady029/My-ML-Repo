{
 "cells": [
  {
   "cell_type": "code",
   "execution_count": 1,
   "metadata": {},
   "outputs": [],
   "source": [
    "import pandas as pd\n",
    "import numpy as np\n",
    "import random as rn\n",
    "import matplotlib.pyplot as plt\n",
    "import random as rn\n",
    "from sklearn import preprocessing\n",
    "train=pd.read_csv(\"/home/chiku/lon/train.csv\")\n",
    "test=pd.read_csv(\"/home/chiku/lon/testp.csv\")\n",
    "tr=pd.DataFrame(preprocessing.normalize(train.iloc[:,0:5]))\n",
    "x_train=tr.iloc[:,0:4]\n",
    "y_train=tr.iloc[:,-1]\n",
    "one1=np.ones([x_train.shape[0],1])\n",
    "x_train.insert(loc=0,column='x0',value=one1)\n",
    "te=pd.DataFrame(preprocessing.normalize(test.iloc[:,0:5]))\n",
    "x_test=te.iloc[:,0:4]\n",
    "y_test=te.iloc[:,-1]\n",
    "one2=np.ones([x_test.shape[0],1])\n",
    "x_test.insert(loc=0,column='x0',value=one2)"
   ]
  },
  {
   "cell_type": "code",
   "execution_count": 2,
   "metadata": {},
   "outputs": [],
   "source": [
    "from sklearn.preprocessing import PolynomialFeatures"
   ]
  },
  {
   "cell_type": "code",
   "execution_count": 3,
   "metadata": {},
   "outputs": [],
   "source": [
    "poly2=PolynomialFeatures(degree=2)\n",
    "x_train1=pd.DataFrame(poly2.fit_transform(x_train))"
   ]
  },
  {
   "cell_type": "code",
   "execution_count": 6,
   "metadata": {},
   "outputs": [
    {
     "data": {
      "text/plain": [
       "(299, 21)"
      ]
     },
     "execution_count": 6,
     "metadata": {},
     "output_type": "execute_result"
    }
   ],
   "source": [
    "x_train1.shape"
   ]
  },
  {
   "cell_type": "code",
   "execution_count": 12,
   "metadata": {},
   "outputs": [],
   "source": [
    "x_test1=pd.DataFrame(poly2.fit_transform(x_test))"
   ]
  },
  {
   "cell_type": "code",
   "execution_count": 14,
   "metadata": {},
   "outputs": [
    {
     "data": {
      "text/html": [
       "<div>\n",
       "<style scoped>\n",
       "    .dataframe tbody tr th:only-of-type {\n",
       "        vertical-align: middle;\n",
       "    }\n",
       "\n",
       "    .dataframe tbody tr th {\n",
       "        vertical-align: top;\n",
       "    }\n",
       "\n",
       "    .dataframe thead th {\n",
       "        text-align: right;\n",
       "    }\n",
       "</style>\n",
       "<table border=\"1\" class=\"dataframe\">\n",
       "  <thead>\n",
       "    <tr style=\"text-align: right;\">\n",
       "      <th></th>\n",
       "      <th>0</th>\n",
       "      <th>1</th>\n",
       "      <th>2</th>\n",
       "      <th>3</th>\n",
       "      <th>4</th>\n",
       "      <th>5</th>\n",
       "      <th>6</th>\n",
       "      <th>7</th>\n",
       "      <th>8</th>\n",
       "      <th>9</th>\n",
       "      <th>...</th>\n",
       "      <th>11</th>\n",
       "      <th>12</th>\n",
       "      <th>13</th>\n",
       "      <th>14</th>\n",
       "      <th>15</th>\n",
       "      <th>16</th>\n",
       "      <th>17</th>\n",
       "      <th>18</th>\n",
       "      <th>19</th>\n",
       "      <th>20</th>\n",
       "    </tr>\n",
       "  </thead>\n",
       "  <tbody>\n",
       "    <tr>\n",
       "      <th>0</th>\n",
       "      <td>1.0</td>\n",
       "      <td>1.0</td>\n",
       "      <td>0.007714</td>\n",
       "      <td>0.036275</td>\n",
       "      <td>0.900267</td>\n",
       "      <td>0.079544</td>\n",
       "      <td>1.0</td>\n",
       "      <td>0.007714</td>\n",
       "      <td>0.036275</td>\n",
       "      <td>0.900267</td>\n",
       "      <td>...</td>\n",
       "      <td>0.000060</td>\n",
       "      <td>0.000280</td>\n",
       "      <td>0.006945</td>\n",
       "      <td>0.000614</td>\n",
       "      <td>0.001316</td>\n",
       "      <td>0.032658</td>\n",
       "      <td>0.002886</td>\n",
       "      <td>0.810481</td>\n",
       "      <td>0.071611</td>\n",
       "      <td>0.006327</td>\n",
       "    </tr>\n",
       "    <tr>\n",
       "      <th>1</th>\n",
       "      <td>1.0</td>\n",
       "      <td>1.0</td>\n",
       "      <td>0.009412</td>\n",
       "      <td>0.033517</td>\n",
       "      <td>0.901441</td>\n",
       "      <td>0.089299</td>\n",
       "      <td>1.0</td>\n",
       "      <td>0.009412</td>\n",
       "      <td>0.033517</td>\n",
       "      <td>0.901441</td>\n",
       "      <td>...</td>\n",
       "      <td>0.000089</td>\n",
       "      <td>0.000315</td>\n",
       "      <td>0.008484</td>\n",
       "      <td>0.000840</td>\n",
       "      <td>0.001123</td>\n",
       "      <td>0.030214</td>\n",
       "      <td>0.002993</td>\n",
       "      <td>0.812595</td>\n",
       "      <td>0.080498</td>\n",
       "      <td>0.007974</td>\n",
       "    </tr>\n",
       "    <tr>\n",
       "      <th>2</th>\n",
       "      <td>1.0</td>\n",
       "      <td>1.0</td>\n",
       "      <td>0.007035</td>\n",
       "      <td>0.036432</td>\n",
       "      <td>0.899746</td>\n",
       "      <td>0.069351</td>\n",
       "      <td>1.0</td>\n",
       "      <td>0.007035</td>\n",
       "      <td>0.036432</td>\n",
       "      <td>0.899746</td>\n",
       "      <td>...</td>\n",
       "      <td>0.000049</td>\n",
       "      <td>0.000256</td>\n",
       "      <td>0.006329</td>\n",
       "      <td>0.000488</td>\n",
       "      <td>0.001327</td>\n",
       "      <td>0.032779</td>\n",
       "      <td>0.002527</td>\n",
       "      <td>0.809544</td>\n",
       "      <td>0.062398</td>\n",
       "      <td>0.004810</td>\n",
       "    </tr>\n",
       "    <tr>\n",
       "      <th>3</th>\n",
       "      <td>1.0</td>\n",
       "      <td>1.0</td>\n",
       "      <td>0.020083</td>\n",
       "      <td>0.040554</td>\n",
       "      <td>0.912179</td>\n",
       "      <td>0.046474</td>\n",
       "      <td>1.0</td>\n",
       "      <td>0.020083</td>\n",
       "      <td>0.040554</td>\n",
       "      <td>0.912179</td>\n",
       "      <td>...</td>\n",
       "      <td>0.000403</td>\n",
       "      <td>0.000814</td>\n",
       "      <td>0.018320</td>\n",
       "      <td>0.000933</td>\n",
       "      <td>0.001645</td>\n",
       "      <td>0.036993</td>\n",
       "      <td>0.001885</td>\n",
       "      <td>0.832071</td>\n",
       "      <td>0.042393</td>\n",
       "      <td>0.002160</td>\n",
       "    </tr>\n",
       "    <tr>\n",
       "      <th>4</th>\n",
       "      <td>1.0</td>\n",
       "      <td>1.0</td>\n",
       "      <td>0.008061</td>\n",
       "      <td>0.032297</td>\n",
       "      <td>0.903195</td>\n",
       "      <td>0.052236</td>\n",
       "      <td>1.0</td>\n",
       "      <td>0.008061</td>\n",
       "      <td>0.032297</td>\n",
       "      <td>0.903195</td>\n",
       "      <td>...</td>\n",
       "      <td>0.000065</td>\n",
       "      <td>0.000260</td>\n",
       "      <td>0.007281</td>\n",
       "      <td>0.000421</td>\n",
       "      <td>0.001043</td>\n",
       "      <td>0.029171</td>\n",
       "      <td>0.001687</td>\n",
       "      <td>0.815762</td>\n",
       "      <td>0.047179</td>\n",
       "      <td>0.002729</td>\n",
       "    </tr>\n",
       "  </tbody>\n",
       "</table>\n",
       "<p>5 rows × 21 columns</p>\n",
       "</div>"
      ],
      "text/plain": [
       "    0    1         2         3         4         5    6         7         8   \\\n",
       "0  1.0  1.0  0.007714  0.036275  0.900267  0.079544  1.0  0.007714  0.036275   \n",
       "1  1.0  1.0  0.009412  0.033517  0.901441  0.089299  1.0  0.009412  0.033517   \n",
       "2  1.0  1.0  0.007035  0.036432  0.899746  0.069351  1.0  0.007035  0.036432   \n",
       "3  1.0  1.0  0.020083  0.040554  0.912179  0.046474  1.0  0.020083  0.040554   \n",
       "4  1.0  1.0  0.008061  0.032297  0.903195  0.052236  1.0  0.008061  0.032297   \n",
       "\n",
       "         9     ...           11        12        13        14        15  \\\n",
       "0  0.900267    ...     0.000060  0.000280  0.006945  0.000614  0.001316   \n",
       "1  0.901441    ...     0.000089  0.000315  0.008484  0.000840  0.001123   \n",
       "2  0.899746    ...     0.000049  0.000256  0.006329  0.000488  0.001327   \n",
       "3  0.912179    ...     0.000403  0.000814  0.018320  0.000933  0.001645   \n",
       "4  0.903195    ...     0.000065  0.000260  0.007281  0.000421  0.001043   \n",
       "\n",
       "         16        17        18        19        20  \n",
       "0  0.032658  0.002886  0.810481  0.071611  0.006327  \n",
       "1  0.030214  0.002993  0.812595  0.080498  0.007974  \n",
       "2  0.032779  0.002527  0.809544  0.062398  0.004810  \n",
       "3  0.036993  0.001885  0.832071  0.042393  0.002160  \n",
       "4  0.029171  0.001687  0.815762  0.047179  0.002729  \n",
       "\n",
       "[5 rows x 21 columns]"
      ]
     },
     "execution_count": 14,
     "metadata": {},
     "output_type": "execute_result"
    }
   ],
   "source": [
    "x_test1.head()"
   ]
  },
  {
   "cell_type": "code",
   "execution_count": 15,
   "metadata": {},
   "outputs": [],
   "source": [
    "def hyp(theta,x):\n",
    "    p=x.dot(theta)\n",
    "    return p"
   ]
  },
  {
   "cell_type": "code",
   "execution_count": 18,
   "metadata": {},
   "outputs": [],
   "source": [
    "def cost(theta,x,y):\n",
    "    m=len(x)\n",
    "    ct=(1/2*m)*(np.sum((x.dot(theta)-y)**2))\n",
    "    return ct"
   ]
  },
  {
   "cell_type": "code",
   "execution_count": 19,
   "metadata": {},
   "outputs": [],
   "source": [
    "def multireg(x,y,alpha,iternum):\n",
    "    theta=np.zeros(x.shape[1])\n",
    "    m=x.shape[0]\n",
    "    cos=[]\n",
    "    tmp=theta\n",
    "    for i in range(iternum):\n",
    "        y_pre=hyp(theta,x)\n",
    "        grad=(np.dot(x.T,(y_pre-y))*(1/m))\n",
    "        tmp =theta-alpha*grad\n",
    "        theta=tmp\n",
    "        cos.append(cost(theta,x,y))\n",
    "    return theta,cos"
   ]
  },
  {
   "cell_type": "code",
   "execution_count": 20,
   "metadata": {},
   "outputs": [],
   "source": [
    "A,B=multireg(x_train,y_train,0.02,200)"
   ]
  },
  {
   "cell_type": "code",
   "execution_count": 21,
   "metadata": {},
   "outputs": [
    {
     "data": {
      "image/png": "[encoded data removed]",
      "text/plain": [
       "<Figure size 432x288 with 1 Axes>"
      ]
     },
     "metadata": {
      "needs_background": "light"
     },
     "output_type": "display_data"
    }
   ],
   "source": [
    "plt.plot(B)\n",
    "plt.show()"
   ]
  },
  {
   "cell_type": "code",
   "execution_count": 22,
   "metadata": {},
   "outputs": [
    {
     "data": {
      "text/plain": [
       "0.012907613981647656"
      ]
     },
     "execution_count": 22,
     "metadata": {},
     "output_type": "execute_result"
    }
   ],
   "source": [
    "from sklearn.metrics import mean_squared_error\n",
    "from math import sqrt\n",
    "rms = sqrt(mean_squared_error(y_test,hyp(A,x_test)))\n",
    "rms"
   ]
  },
  {
   "cell_type": "code",
   "execution_count": null,
   "metadata": {},
   "outputs": [],
   "source": []
  }
 ],
 "metadata": {
  "kernelspec": {
   "display_name": "Python 3",
   "language": "python",
   "name": "python3"
  },
  "language_info": {
   "codemirror_mode": {
    "name": "ipython",
    "version": 3
   },
   "file_extension": ".py",
   "mimetype": "text/x-python",
   "name": "python",
   "nbconvert_exporter": "python",
   "pygments_lexer": "ipython3",
   "version": "3.7.1"
  }
 },
 "nbformat": 4,
 "nbformat_minor": 2
}
